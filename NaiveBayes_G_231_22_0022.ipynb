{
  "nbformat": 4,
  "nbformat_minor": 0,
  "metadata": {
    "colab": {
      "provenance": []
    },
    "kernelspec": {
      "name": "python3",
      "display_name": "Python 3"
    },
    "language_info": {
      "name": "python"
    }
  },
  "cells": [
    {
      "cell_type": "code",
      "execution_count": null,
      "metadata": {
        "id": "wpHQKCFMDAer"
      },
      "outputs": [],
      "source": [
        "# 1 import dataset\n",
        "from sklearn.datasets import load_digits\n",
        "digits = load_digits()\n",
        "digits.images.shape # (1797, 8, 8)\n",
        "digits.images # akan manghasilkan matrix of numbers"
      ]
    },
    {
      "cell_type": "code",
      "source": [
        "#2. memisahkan feature matix (x) dengan target label (Y)\n",
        "x = digits.data\n",
        "y = digits.target"
      ],
      "metadata": {
        "id": "436fi85JD2zV"
      },
      "execution_count": null,
      "outputs": []
    },
    {
      "cell_type": "code",
      "source": [
        "#3, splitting\n",
        "from sklearn.model_selection import train_test_split\n",
        "xtrain, xtest, ytrain, ytest = train_test_split(x, y, random_state=0)\n"
      ],
      "metadata": {
        "id": "ivlHaNx7D3_T"
      },
      "execution_count": null,
      "outputs": []
    },
    {
      "cell_type": "code",
      "source": [
        "#4. training model\n",
        "from sklearn.naive_bayes import GaussianNB\n",
        "model = GaussianNB()\n",
        "model.fit(xtrain, ytrain)\n",
        "#traing model dengan methoad fit()\n",
        "y_model = model.predict(xtest)"
      ],
      "metadata": {
        "id": "_lnmyjJGD5b-"
      },
      "execution_count": null,
      "outputs": []
    },
    {
      "cell_type": "code",
      "source": [
        "# melihat skor akurasi dengan data ytest\n",
        "from sklearn.metrics import accuracy_score\n",
        "accuracy_score(ytest, y_model)\n",
        "#uji ini menghasilkan 0.8333333333333334"
      ],
      "metadata": {
        "id": "unHCTfW4D7Jm"
      },
      "execution_count": null,
      "outputs": []
    }
  ]
}